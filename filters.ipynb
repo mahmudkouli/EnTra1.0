{
 "cells": [
  {
   "cell_type": "code",
   "execution_count": 25,
   "metadata": {},
   "outputs": [],
   "source": [
    "import pandas as pd\n",
    "\n",
    "def volume(df):\n",
    "    \n",
    "    df_volume_mean = pd.DataFrame(df.groupby('ticker').agg('mean')['volume'].astype('int')).rename(columns={'volume':'daily mean volume'})\n",
    "    \n",
    "    merged = pd.merge(df, df_volume_mean, how='inner', left_on='ticker', right_index=True)\n",
    "    \n",
    "    return merged\n",
    "\n",
    "def main():\n",
    "    df = pd.read_csv('/Users/Mahmud/Desktop/stock_market_tracker/prod_env/EnTra/daily_updated_prices.csv').round({'close':2, 'rsi':2, 'macd_diff_signal':2})    \n",
    "    new_df = volume(df)\n",
    "\n",
    "    return new_df.to_csv('/Users/Mahmud/Desktop/stock_market_tracker/prod_env/EnTra/daily_updated_prices.csv', index = False)\n",
    "\n",
    "if __name__ == '__main__':\n",
    "    main()\n"
   ]
  },
  {
   "cell_type": "code",
   "execution_count": 15,
   "metadata": {},
   "outputs": [],
   "source": [
    "stocks = pd.read_excel('/Users/Mahmud/Desktop/stock_market_tracker/prod_env/EnTra/ticker_data.xlsx')\n",
    "merged = pd.merge(test_df,stocks,how='left',left_on = 'ticker', right_on='Ticker')\n",
    "#merged = merged[['ticker', 'Company Name', 'Industry', 'date', 'close', 'rsi', 'macd_diff_signal','daily mean volume']]\n",
    "merged = merged.rename(columns = {'ticker':'Ticker', 'date':'Date', 'close':'Close', 'rsi':'RSI', 'macd_diff_signal':'MACD'})\n",
    "\n",
    "\n",
    "daily_df = merged[(merged['Date'] == merged.Date.max()) & \n",
    "                      (merged['RSI']<35) & \n",
    "                      (merged['Close']>10) & \n",
    "                      (merged['daily mean volume'] > 500000) &\n",
    "                      (merged['action_signal']!='No signal')].sort_values(by=['RSI','MACD']) "
   ]
  },
  {
   "cell_type": "code",
   "execution_count": null,
   "metadata": {
    "collapsed": true
   },
   "outputs": [],
   "source": []
  }
 ],
 "metadata": {
  "kernelspec": {
   "display_name": "Python 3",
   "language": "python",
   "name": "python3"
  },
  "language_info": {
   "codemirror_mode": {
    "name": "ipython",
    "version": 3
   },
   "file_extension": ".py",
   "mimetype": "text/x-python",
   "name": "python",
   "nbconvert_exporter": "python",
   "pygments_lexer": "ipython3",
   "version": "3.6.3"
  }
 },
 "nbformat": 4,
 "nbformat_minor": 2
}
