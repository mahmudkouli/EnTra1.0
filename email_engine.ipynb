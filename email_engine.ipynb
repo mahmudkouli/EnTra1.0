{
 "cells": [
  {
   "cell_type": "code",
   "execution_count": 11,
   "metadata": {},
   "outputs": [
    {
     "name": "stdout",
     "output_type": "stream",
     "text": [
      "Successfully sent email\n"
     ]
    }
   ],
   "source": [
    "import email, smtplib, datetime\n",
    "from email.mime.multipart import MIMEMultipart\n",
    "from email.mime.text import MIMEText\n",
    "import pandas as pd\n",
    "\n",
    "def data_to_send():\n",
    "    df = pd.read_csv('/Users/Mahmud/Desktop/stock_market_tracker/prod_env/EnTra/daily_updated_prices.csv').round({'close':2, 'rsi':2, 'macd_diff_signal':2})\n",
    "    stocks = pd.read_excel('/Users/Mahmud/Desktop/stock_market_tracker/prod_env/EnTra/ticker_data.xlsx')\n",
    "    merged = pd.merge(df,stocks,how='left',left_on = 'ticker', right_on='Ticker')\n",
    "    merged = merged[['ticker', 'Company Name', 'Industry', 'date', 'close', 'rsi', 'macd_diff_signal','daily mean volume', 'action_signal']]\n",
    "    merged = merged.rename(columns = {'ticker':'Ticker', 'date':'Date', 'close':'Close', 'rsi':'RSI', 'macd_diff_signal':'MACD', 'action_signal':'Action'})\n",
    "\n",
    "\n",
    "    daily_df = merged[(merged['Date'] == merged.Date.max()) & \n",
    "                      (merged['RSI']<35) & \n",
    "                      (merged['Close']>10) & \n",
    "                      (merged['daily mean volume'] > 500000) &\n",
    "                      (merged['Action']!='No signal')].sort_values(by=['RSI','MACD']) \n",
    "                      \n",
    "    daily_df = daily_df[['Ticker', 'Company Name', 'Industry', 'Date', 'Close', 'RSI', \n",
    "                         'MACD','daily mean volume','Action']]\n",
    "    return daily_df\n",
    "\n",
    "def email_connection(email, msg, data):\n",
    "\n",
    "    s = smtplib.SMTP('smtp.gmail.com', 587)\n",
    "    s.starttls()\n",
    "    s.login('entra.daily@gmail.com', 'Pomidor12')\n",
    "    msg['From']= email\n",
    "    msg['To']= 'mahmudkouli@gmail.com'\n",
    "    #msg['CC']='ksenia.ter@gmail.com'\n",
    "    msg['Subject']=\"Entra Alert, \" + str(datetime.date.today())\n",
    "\n",
    "    msg.attach(MIMEText(data.to_html(), 'html'))\n",
    "\n",
    "    s.send_message(msg)\n",
    "    print('Successfully sent email')\n",
    "\n",
    "    s.quit()\n",
    "\n",
    "def main():\n",
    "    email = 'entra.daily@gmail.com'\n",
    "    msg = MIMEMultipart()\n",
    "\n",
    "    data = data_to_send()[['Ticker', 'Company Name', 'Industry', 'Date', 'Close', 'RSI', 'MACD','Action']]\n",
    "    week_no = datetime.datetime.today().weekday()\n",
    "\n",
    "    if week_no < 7:\n",
    "        email_connection(email, msg, data)\n",
    "    else:\n",
    "        pass\n",
    "\n",
    "if __name__ == \"__main__\":\n",
    "    main()\n",
    "    "
   ]
  },
  {
   "cell_type": "code",
   "execution_count": null,
   "metadata": {
    "collapsed": true
   },
   "outputs": [],
   "source": []
  }
 ],
 "metadata": {
  "kernelspec": {
   "display_name": "Python 3",
   "language": "python",
   "name": "python3"
  },
  "language_info": {
   "codemirror_mode": {
    "name": "ipython",
    "version": 3
   },
   "file_extension": ".py",
   "mimetype": "text/x-python",
   "name": "python",
   "nbconvert_exporter": "python",
   "pygments_lexer": "ipython3",
   "version": "3.6.3"
  }
 },
 "nbformat": 4,
 "nbformat_minor": 2
}
