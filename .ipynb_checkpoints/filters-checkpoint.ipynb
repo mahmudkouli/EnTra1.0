{
 "cells": [
  {
   "cell_type": "code",
   "execution_count": 6,
   "metadata": {
    "collapsed": true
   },
   "outputs": [],
   "source": [
    "import pandas as pd\n",
    "\n",
    "def volume(df):\n",
    "    \n",
    "    df_volume_mean = pd.DataFrame(df.groupby('ticker').agg('mean')['volume'].astype('int')).rename(columns={'volume':'daily mean volume'})\n",
    "    \n",
    "    merged = pd.merge(df, df_volume_mean, how='inner', left_on='ticker', right_index=True)\n",
    "    \n",
    "    return merged\n",
    "\n",
    "def main():\n",
    "    df = pd.read_csv('/Users/Mahmud/Desktop/stock_market_tracker/daily_updated_prices.csv').round({'close':2, 'rsi':2, 'macd_diff_signal':2})    \n",
    "    new_df = volume(df)\n",
    "\n",
    "    return new_df.to('/Users/Mahmud/Desktop/stock_market_tracker/daily_updated_prices.csv', index = False)\n",
    "\n",
    "if __name__ == 'main':\n",
    "    main()\n"
   ]
  },
  {
   "cell_type": "code",
   "execution_count": 12,
   "metadata": {},
   "outputs": [],
   "source": [
    "stocks = pd.read_excel('/Users/Mahmud/Desktop/stock_market_tracker/prod_env/EnTra/ticker_data.xlsx')\n",
    "merged = pd.merge(test_df,stocks,how='left',left_on = 'ticker', right_on='Ticker')\n",
    "#merged = merged[['ticker', 'Company Name', 'Industry', 'date', 'close', 'rsi', 'macd_diff_signal','daily mean volume']]\n",
    "merged = merged.rename(columns = {'ticker':'Ticker', 'date':'Date', 'close':'Close', 'rsi':'RSI', 'macd_diff_signal':'MACD'})\n",
    "\n",
    "\n",
    "daily_df = merged[(merged['Date'] == merged.Date.max()) & \n",
    "                      (merged['RSI']<35) & \n",
    "                      (merged['Close']>10) & \n",
    "                      (merged['daily mean volume'] > 500000) &\n",
    "                      (merged['action_signal']!='No signal')].sort_values(by=['RSI','MACD']) "
   ]
  },
  {
   "cell_type": "code",
   "execution_count": 13,
   "metadata": {},
   "outputs": [
    {
     "data": {
      "text/html": [
       "<div>\n",
       "<style>\n",
       "    .dataframe thead tr:only-child th {\n",
       "        text-align: right;\n",
       "    }\n",
       "\n",
       "    .dataframe thead th {\n",
       "        text-align: left;\n",
       "    }\n",
       "\n",
       "    .dataframe tbody tr th {\n",
       "        vertical-align: top;\n",
       "    }\n",
       "</style>\n",
       "<table border=\"1\" class=\"dataframe\">\n",
       "  <thead>\n",
       "    <tr style=\"text-align: right;\">\n",
       "      <th></th>\n",
       "      <th>action_signal</th>\n",
       "      <th>Close</th>\n",
       "      <th>Date</th>\n",
       "      <th>delta</th>\n",
       "      <th>gl_min_ab_be</th>\n",
       "      <th>macd</th>\n",
       "      <th>MACD</th>\n",
       "      <th>RSI</th>\n",
       "      <th>signal_line</th>\n",
       "      <th>Ticker</th>\n",
       "      <th>volume</th>\n",
       "      <th>daily mean volume</th>\n",
       "      <th>Company Name</th>\n",
       "      <th>Ticker</th>\n",
       "      <th>Industry</th>\n",
       "    </tr>\n",
       "  </thead>\n",
       "  <tbody>\n",
       "    <tr>\n",
       "      <th>25087</th>\n",
       "      <td>Bullish</td>\n",
       "      <td>33.60</td>\n",
       "      <td>2019-07-26</td>\n",
       "      <td>-0.057680</td>\n",
       "      <td>below</td>\n",
       "      <td>-0.366007</td>\n",
       "      <td>-0.30</td>\n",
       "      <td>26.01</td>\n",
       "      <td>-0.068248</td>\n",
       "      <td>ENB</td>\n",
       "      <td>3354314</td>\n",
       "      <td>3859588</td>\n",
       "      <td>Enbridge Inc</td>\n",
       "      <td>ENB</td>\n",
       "      <td>Natural Gas Distribution</td>\n",
       "    </tr>\n",
       "    <tr>\n",
       "      <th>15656</th>\n",
       "      <td>Bullish</td>\n",
       "      <td>29.64</td>\n",
       "      <td>2019-07-26</td>\n",
       "      <td>-0.033919</td>\n",
       "      <td>above</td>\n",
       "      <td>-0.330935</td>\n",
       "      <td>-0.24</td>\n",
       "      <td>28.21</td>\n",
       "      <td>-0.087743</td>\n",
       "      <td>SU</td>\n",
       "      <td>3579913</td>\n",
       "      <td>3493780</td>\n",
       "      <td>Suncor Energy  Inc.</td>\n",
       "      <td>SU</td>\n",
       "      <td>Integrated oil Companies</td>\n",
       "    </tr>\n",
       "    <tr>\n",
       "      <th>32587</th>\n",
       "      <td>Bearish</td>\n",
       "      <td>34.82</td>\n",
       "      <td>2019-07-26</td>\n",
       "      <td>0.025788</td>\n",
       "      <td>above</td>\n",
       "      <td>-1.692830</td>\n",
       "      <td>-0.03</td>\n",
       "      <td>28.35</td>\n",
       "      <td>-1.667446</td>\n",
       "      <td>CGC</td>\n",
       "      <td>2720377</td>\n",
       "      <td>8818997</td>\n",
       "      <td>Canopy Growth Corporation</td>\n",
       "      <td>CGC</td>\n",
       "      <td>Specialty Chemicals</td>\n",
       "    </tr>\n",
       "  </tbody>\n",
       "</table>\n",
       "</div>"
      ],
      "text/plain": [
       "      action_signal  Close        Date     delta gl_min_ab_be      macd  MACD  \\\n",
       "25087       Bullish  33.60  2019-07-26 -0.057680        below -0.366007 -0.30   \n",
       "15656       Bullish  29.64  2019-07-26 -0.033919        above -0.330935 -0.24   \n",
       "32587       Bearish  34.82  2019-07-26  0.025788        above -1.692830 -0.03   \n",
       "\n",
       "         RSI  signal_line Ticker   volume  daily mean volume  \\\n",
       "25087  26.01    -0.068248    ENB  3354314            3859588   \n",
       "15656  28.21    -0.087743     SU  3579913            3493780   \n",
       "32587  28.35    -1.667446    CGC  2720377            8818997   \n",
       "\n",
       "                    Company Name Ticker                  Industry  \n",
       "25087               Enbridge Inc    ENB  Natural Gas Distribution  \n",
       "15656        Suncor Energy  Inc.     SU  Integrated oil Companies  \n",
       "32587  Canopy Growth Corporation    CGC       Specialty Chemicals  "
      ]
     },
     "execution_count": 13,
     "metadata": {},
     "output_type": "execute_result"
    }
   ],
   "source": [
    "daily_df"
   ]
  },
  {
   "cell_type": "code",
   "execution_count": null,
   "metadata": {
    "collapsed": true
   },
   "outputs": [],
   "source": []
  }
 ],
 "metadata": {
  "kernelspec": {
   "display_name": "Python 3",
   "language": "python",
   "name": "python3"
  },
  "language_info": {
   "codemirror_mode": {
    "name": "ipython",
    "version": 3
   },
   "file_extension": ".py",
   "mimetype": "text/x-python",
   "name": "python",
   "nbconvert_exporter": "python",
   "pygments_lexer": "ipython3",
   "version": "3.6.3"
  }
 },
 "nbformat": 4,
 "nbformat_minor": 2
}
