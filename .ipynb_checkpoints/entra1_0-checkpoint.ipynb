{
 "cells": [
  {
   "cell_type": "code",
   "execution_count": 17,
   "metadata": {},
   "outputs": [
    {
     "name": "stdout",
     "output_type": "stream",
     "text": [
      "LGF.B  encountered error, moving to next stock\n"
     ]
    },
    {
     "name": "stderr",
     "output_type": "stream",
     "text": [
      "ERROR:root:b'{\"detail\":\"Error: Ticker \\'TICKER\\' not found\"}'\n"
     ]
    },
    {
     "name": "stdout",
     "output_type": "stream",
     "text": [
      "ticker  encountered error, moving to next stock\n"
     ]
    },
    {
     "name": "stderr",
     "output_type": "stream",
     "text": [
      "ERROR:root:b'{\"detail\":\"Error: Ticker \\'GRP.U\\' not found\"}'\n"
     ]
    },
    {
     "name": "stdout",
     "output_type": "stream",
     "text": [
      "GRP.U  encountered error, moving to next stock\n"
     ]
    }
   ],
   "source": [
    "import pandas as pd, numpy as np\n",
    "import tiingo, datetime\n",
    "import warnings\n",
    "\n",
    "warnings.filterwarnings('ignore')\n",
    "\n",
    "def connect_to_tiingo():\n",
    "    '''This function establishes a connection to the Tiingo API to donwload historical stock data.'''\n",
    "    API = 'cb927ca36374f6d4f3455280cb187e4a59fb68f3'\n",
    "    config = {}\n",
    "    config['session'] = True\n",
    "    config['api_key'] = API\n",
    "    client = tiingo.TiingoClient(config)\n",
    "    return client\n",
    "\n",
    "def get_stock_data(ticker, tiingo_conn, startDate=datetime.datetime.now().date() - datetime.timedelta(days=365), endDate=datetime.datetime.now().date(), fmt='json', frequency='daily'):\n",
    "    '''This function downloads the specified stock data. The function downloads date, close price and volume on the day\n",
    "    of. The start and end date of time range are preset at January 1, 2018 and November 2, 2018 respectively, with\n",
    "    daily frequency. The data is returned in json format.\n",
    "    '''\n",
    "    stock_data = tiingo_conn.get_ticker_price(ticker, startDate, endDate, fmt, frequency)\n",
    "    stock_data = pd.DataFrame(stock_data)\n",
    "    stock_data['date'] = pd.to_datetime(stock_data['date'],format='%Y-%m-%dT%H:%M:%S.%fz')\n",
    "    stock_data = stock_data.reset_index().set_index(stock_data['date'])\n",
    "    stock_data['ticker'] = ticker\n",
    "    return stock_data[['date', 'close', 'volume', 'ticker','volume']]\n",
    "\n",
    "def macd(df):\n",
    "    '''This function builds MACD and the 9 day Signal line.\n",
    "\n",
    "    Parameters:\n",
    "    -------------\n",
    "    plot: set to \"no\" by default. If \"yes\", outputs a graph of MACD and Signal line\n",
    "\n",
    "    Returns:\n",
    "    -------------\n",
    "    DataFrame of MACD and Signal Line\n",
    "    '''\n",
    "\n",
    "    df['ema_price_12'] = df['close'].ewm(span = 12, adjust = True, ignore_na=True).mean()\n",
    "    df['ema_price_26'] = df['close'].ewm(span = 26, adjust = True, ignore_na=True).mean()\n",
    "    df['macd'] = df['ema_price_12'] - df['ema_price_26']\n",
    "    df['signal_line'] = df['macd'].ewm(span = 9, adjust = True, ignore_na=True).mean()\n",
    "    df['macd_diff_signal'] = df['macd'] - df['signal_line']\n",
    "\n",
    "    return df[['date', 'close', 'macd', 'signal_line','macd_diff_signal', 'ticker','volume']]\n",
    "\n",
    "def rsi(df):\n",
    "    '''This function builds Relative Strength Indicator.\n",
    "\n",
    "    Returns:\n",
    "    -------------\n",
    "    DataFrame of stock prices and RSI\n",
    "    '''\n",
    "    delta = df['close'].diff()\n",
    "\n",
    "    up, down = delta.copy(), delta.copy()\n",
    "    up[up < 0] = 0\n",
    "    down[down > 0] = 0\n",
    "\n",
    "    roll_up2 = up.rolling(14).mean()\n",
    "    roll_down2 = down.abs().rolling(14).mean()\n",
    "\n",
    "    rsi_raw = roll_up2/roll_down2\n",
    "    rsi = 100.0 - (100.0 / (1.0 + rsi_raw))\n",
    "    df['rsi'] = rsi\n",
    "    return df[['date', 'close', 'macd', 'signal_line', 'macd_diff_signal','rsi', 'ticker','volume']]\n",
    "\n",
    "def chaikin_oscillator(data, periods_short=3, periods_long=10, high_col='high',\n",
    "                       low_col='low', close_col='close', vol_col='volume'):\n",
    "    ac = pd.Series([])\n",
    "    val_last = 0\n",
    "    \n",
    "    for index, row in data.iterrows():\n",
    "        if row[high_col] != row[low_col]:\n",
    "            val = val_last + ((row[close_col] - row[low_col]) - (row[high_col] - row[close_col])) / (row[high_col] - row[low_col]) * row[vol_col]\n",
    "        else:\n",
    "            val = val_last\n",
    "        ac.set_value(index, val)\n",
    "    val_last = val\n",
    "\n",
    "    ema_long = ac.ewm(ignore_na=False, min_periods=0, com=periods_long, adjust=True).mean()\n",
    "    ema_short = ac.ewm(ignore_na=False, min_periods=0, com=periods_short, adjust=True).mean()\n",
    "    data['ch_osc'] = ema_short - ema_long\n",
    "\n",
    "    return data\n",
    "\n",
    "def main():\n",
    "    connection = connect_to_tiingo()\n",
    "\n",
    "    stacked = pd.DataFrame(columns=['date','close','rsi','macd_diff_signal','macd','signal_line', 'ticker','volume'])\n",
    "    stocks = pd.read_excel('/Users/Mahmud/Desktop/stock_market_tracker/prod_env/EnTra/ticker_data.xlsx')\n",
    "    for i in stocks[stocks['Industry']!='Precious Metals']['Ticker']:\n",
    "        try:\n",
    "            df = get_stock_data(i, connection)\n",
    "            df = macd(df)\n",
    "            df = rsi(df)\n",
    "            df = df.iloc[:, :-1]\n",
    "            stacked = stacked.append(df)\n",
    "            stacked['date'] = stacked.index\n",
    "        except:\n",
    "            print(str(i), ' encountered error, moving to next stock')\n",
    "            pass\n",
    "\n",
    "    return stacked.to_csv('/Users/Mahmud/Desktop/stock_market_tracker/daily_updated_prices.csv', index=False)\n",
    "\n",
    "if __name__ == \"__main__\":\n",
    "    main()\n"
   ]
  },
  {
   "cell_type": "code",
   "execution_count": 18,
   "metadata": {},
   "outputs": [],
   "source": [
    "# Pending Updates\n",
    "\n",
    "#1 add functions for MACD, RSI, CH_OSC that classify them as BUY, HOLD OR SELL\n",
    "#2 move ch_osc to the PA website\n",
    "#3 write the conditions below into a function, use apply to create a column and label it buy/sell/hold, see example below\n",
    "#4 modularize the code into dependencies and make it callable from a main.py script"
   ]
  },
  {
   "cell_type": "code",
   "execution_count": 49,
   "metadata": {
    "collapsed": true
   },
   "outputs": [],
   "source": [
    "#1 below 0:\n",
    "    #1.1 above global min: maybe try using local min, \n",
    "        #1.1a declined last day ## LOOK AT PERCENTAGE DIFFERENCE OF THE DECLINE VS INCLINE TO IDENTIFY THE ACCELERATION \n",
    "                            ## OF THE MOMENTUM\n",
    "            # 'buy', alert\n",
    "        #1.1b increased last day\n",
    "            # 'hold', no alert\n",
    "        \n",
    "    #1.2 below global min:\n",
    "        #1.2a declined last day\n",
    "            # 'buy', alert\n",
    "        #1.2b increased last day\n",
    "            # 'sell', no alert\n",
    "\n",
    "#2 above 0: revert the above to calculations around global max\n",
    "    # \n"
   ]
  },
  {
   "cell_type": "code",
   "execution_count": 15,
   "metadata": {},
   "outputs": [],
   "source": [
    "#4\n",
    "import numpy as np\n",
    "\n",
    "df = pd.read_csv('/Users/Mahmud/Desktop/stock_market_tracker/daily_prices.csv')\n",
    "df = df[(df['ticker']=='BCE') & (df['date'] <= '2019-05-07')]\n",
    "\n",
    "# find the day over day change in macd_diff_signal, first difference\n",
    "df['delta'] = df['macd_diff_signal'].diff()\n",
    "df.head(5)\n",
    "\n",
    "# find the second difference, to measure % increase/decrease in day over day delta\n",
    "#.....\n",
    "\n",
    "# find global min\n",
    "global_min = df['macd_diff_signal'].min()\n",
    "\n",
    "# above vs below the global min\n",
    "df['gl_min_ab_be'] = np.where(df['macd_diff_signal']<=global_min,'below','above')\n",
    "\n",
    "\n",
    "#print('------ Part 1.1 ------')\n",
    "#1.1a: macd_diff below 0, above global min, declined last day (BUY / PAY ATTENTION)\n",
    "df_above_min_dec = df[(df['gl_min_ab_be'] == 'above') & (df['delta'] < 0) & (df['rsi'] < 30) \n",
    "                      & (df['macd_diff_signal'] < 0)]\n",
    "\n",
    "#1.1b: macd_diff below 0, above global min, increased last day (SELL / HOLD)\n",
    "df_above_min_inc = df[(df['gl_min_ab_be'] == 'above') & (df['delta'] > 0) & (df['rsi'] < 30)\n",
    "                     & (df['macd_diff_signal'] < 0)]\n",
    "\n",
    "\n",
    "#print('------ Part 1.2 ------')\n",
    "#1.2a: macd_diff below 0, below global min, declined last day (BUY / PAY ATTENTION)\n",
    "df_below_min_dec = df[(df['gl_min_ab_be'] == 'below') & (df['delta'] < 0) & (df['rsi'] < 30)\n",
    "                     & (df['macd_diff_signal'] < 0)]\n",
    "\n",
    "#1.2b: macd_diff below 0, below global min, increased last day (SELL / HOLD)\n",
    "df_below_min_inc = df[(df['gl_min_ab_be'] == 'below') & (df['delta'] > 0) & (df['rsi'] < 30)\n",
    "                     & (df['macd_diff_signal'] < 0)]\n"
   ]
  }
 ],
 "metadata": {
  "kernelspec": {
   "display_name": "Python 3",
   "language": "python",
   "name": "python3"
  },
  "language_info": {
   "codemirror_mode": {
    "name": "ipython",
    "version": 3
   },
   "file_extension": ".py",
   "mimetype": "text/x-python",
   "name": "python",
   "nbconvert_exporter": "python",
   "pygments_lexer": "ipython3",
   "version": "3.6.3"
  }
 },
 "nbformat": 4,
 "nbformat_minor": 2
}
